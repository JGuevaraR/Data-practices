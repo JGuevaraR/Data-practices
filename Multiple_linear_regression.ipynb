{
  "nbformat": 4,
  "nbformat_minor": 0,
  "metadata": {
    "colab": {
      "name": "Multiple linear regression",
      "provenance": [],
      "authorship_tag": "ABX9TyPYaPQ2dN4gWUBjKvGNwiqH",
      "include_colab_link": true
    },
    "kernelspec": {
      "name": "python3",
      "display_name": "Python 3"
    }
  },
  "cells": [
    {
      "cell_type": "markdown",
      "metadata": {
        "id": "view-in-github",
        "colab_type": "text"
      },
      "source": [
        "<a href=\"https://colab.research.google.com/github/JGuevaraR/Data-practices/blob/main/Multiple_linear_regression.ipynb\" target=\"_parent\"><img src=\"https://colab.research.google.com/assets/colab-badge.svg\" alt=\"Open In Colab\"/></a>"
      ]
    },
    {
      "cell_type": "markdown",
      "metadata": {
        "id": "mlvSVCf0-8om"
      },
      "source": [
        "### All the excercises presented in this repository are available in the book \"A hands-on introduction to Data Science\" by Chirag Shah.#\r\n",
        "## Multiple linear regression:\r\n",
        "this excercise is based in the _try it yourself 5.5_ using the **All Greens Franchise** dataset available [here](https://college.cengage.com/mathematics/brase/understandable_statistics/7e/students/datasets/mlr/frames/mlr05.html).\r\n",
        "\r\n",
        "\r\n",
        "The data (X1, X2, X3, X4, X5, X6) are for each franchise store.\r\n",
        "\r\n",
        "* X1 = annual net sales/1000 dollars\r\n",
        "* X2 = number sq. ft./1000  \r\n",
        "* X3 = inventory/1000 dollars\r\n",
        "* X4 = amount spent on advertizing/$1000\r\n",
        "* X5 = size of sales district/1000 families\r\n",
        "* X6 = number of competing stores in district\r\n",
        "\r\n",
        "first, we will import the librarys that we are going to use.\r\n",
        " Unlike the base exercise, we are not going to use the _statsmodel_ library, instead, we will use the famous _sci-kit learn_ library."
      ]
    },
    {
      "cell_type": "code",
      "metadata": {
        "id": "8Cae4xRWCTHs"
      },
      "source": [
        "import numpy as np\r\n",
        "import pandas as pd\r\n",
        "from sklearn import linear_model\r\n",
        "import matplotlib.pyplot as plt\r\n",
        "from sklearn.model_selection import train_test_split\r\n",
        "from sklearn.metrics import mean_absolute_error"
      ],
      "execution_count": 1,
      "outputs": []
    },
    {
      "cell_type": "markdown",
      "metadata": {
        "id": "4Xztio-hDgTb"
      },
      "source": [
        "next, lets import the dataset and do the first analysis"
      ]
    },
    {
      "cell_type": "code",
      "metadata": {
        "colab": {
          "base_uri": "https://localhost:8080/",
          "height": 297
        },
        "id": "l-rsjqZYFk98",
        "outputId": "be829753-90be-4347-86ec-69a64eb52a4d"
      },
      "source": [
        "#import the dataset\r\n",
        "df = pd.read_excel(\"https://college.cengage.com/mathematics/brase/understandable_statistics/7e/students/datasets/mlr/excel/mlr05.xls\")\r\n",
        "\r\n",
        "#start the first analysis\r\n",
        "df.describe()"
      ],
      "execution_count": 2,
      "outputs": [
        {
          "output_type": "execute_result",
          "data": {
            "text/html": [
              "<div>\n",
              "<style scoped>\n",
              "    .dataframe tbody tr th:only-of-type {\n",
              "        vertical-align: middle;\n",
              "    }\n",
              "\n",
              "    .dataframe tbody tr th {\n",
              "        vertical-align: top;\n",
              "    }\n",
              "\n",
              "    .dataframe thead th {\n",
              "        text-align: right;\n",
              "    }\n",
              "</style>\n",
              "<table border=\"1\" class=\"dataframe\">\n",
              "  <thead>\n",
              "    <tr style=\"text-align: right;\">\n",
              "      <th></th>\n",
              "      <th>X1</th>\n",
              "      <th>X2</th>\n",
              "      <th>X3</th>\n",
              "      <th>X4</th>\n",
              "      <th>X5</th>\n",
              "      <th>X6</th>\n",
              "    </tr>\n",
              "  </thead>\n",
              "  <tbody>\n",
              "    <tr>\n",
              "      <th>count</th>\n",
              "      <td>27.000000</td>\n",
              "      <td>27.000000</td>\n",
              "      <td>27.000000</td>\n",
              "      <td>27.00000</td>\n",
              "      <td>27.000000</td>\n",
              "      <td>27.000000</td>\n",
              "    </tr>\n",
              "    <tr>\n",
              "      <th>mean</th>\n",
              "      <td>286.574074</td>\n",
              "      <td>3.325926</td>\n",
              "      <td>387.481481</td>\n",
              "      <td>8.10000</td>\n",
              "      <td>9.692593</td>\n",
              "      <td>7.740741</td>\n",
              "    </tr>\n",
              "    <tr>\n",
              "      <th>std</th>\n",
              "      <td>192.061724</td>\n",
              "      <td>2.011045</td>\n",
              "      <td>191.167742</td>\n",
              "      <td>3.77451</td>\n",
              "      <td>5.140033</td>\n",
              "      <td>4.895780</td>\n",
              "    </tr>\n",
              "    <tr>\n",
              "      <th>min</th>\n",
              "      <td>0.500000</td>\n",
              "      <td>0.500000</td>\n",
              "      <td>102.000000</td>\n",
              "      <td>2.50000</td>\n",
              "      <td>1.600000</td>\n",
              "      <td>0.000000</td>\n",
              "    </tr>\n",
              "    <tr>\n",
              "      <th>25%</th>\n",
              "      <td>98.500000</td>\n",
              "      <td>1.400000</td>\n",
              "      <td>204.000000</td>\n",
              "      <td>4.80000</td>\n",
              "      <td>4.500000</td>\n",
              "      <td>4.000000</td>\n",
              "    </tr>\n",
              "    <tr>\n",
              "      <th>50%</th>\n",
              "      <td>341.000000</td>\n",
              "      <td>3.500000</td>\n",
              "      <td>382.000000</td>\n",
              "      <td>8.10000</td>\n",
              "      <td>11.300000</td>\n",
              "      <td>8.000000</td>\n",
              "    </tr>\n",
              "    <tr>\n",
              "      <th>75%</th>\n",
              "      <td>450.500000</td>\n",
              "      <td>4.750000</td>\n",
              "      <td>551.000000</td>\n",
              "      <td>10.95000</td>\n",
              "      <td>14.050000</td>\n",
              "      <td>12.000000</td>\n",
              "    </tr>\n",
              "    <tr>\n",
              "      <th>max</th>\n",
              "      <td>570.000000</td>\n",
              "      <td>8.600000</td>\n",
              "      <td>788.000000</td>\n",
              "      <td>17.40000</td>\n",
              "      <td>16.299999</td>\n",
              "      <td>15.000000</td>\n",
              "    </tr>\n",
              "  </tbody>\n",
              "</table>\n",
              "</div>"
            ],
            "text/plain": [
              "               X1         X2          X3        X4         X5         X6\n",
              "count   27.000000  27.000000   27.000000  27.00000  27.000000  27.000000\n",
              "mean   286.574074   3.325926  387.481481   8.10000   9.692593   7.740741\n",
              "std    192.061724   2.011045  191.167742   3.77451   5.140033   4.895780\n",
              "min      0.500000   0.500000  102.000000   2.50000   1.600000   0.000000\n",
              "25%     98.500000   1.400000  204.000000   4.80000   4.500000   4.000000\n",
              "50%    341.000000   3.500000  382.000000   8.10000  11.300000   8.000000\n",
              "75%    450.500000   4.750000  551.000000  10.95000  14.050000  12.000000\n",
              "max    570.000000   8.600000  788.000000  17.40000  16.299999  15.000000"
            ]
          },
          "metadata": {
            "tags": []
          },
          "execution_count": 2
        }
      ]
    },
    {
      "cell_type": "markdown",
      "metadata": {
        "id": "QJj1aa28Hk50"
      },
      "source": [
        "As we can see, our dataset is full, with numerical values, next we will define our predictors and target"
      ]
    },
    {
      "cell_type": "code",
      "metadata": {
        "id": "k0gqEJVdHjvQ"
      },
      "source": [
        "#define target:\r\n",
        "y = df.X1\r\n",
        "#define our features column's name, and then asign variables for the dataset with such features\r\n",
        "features = [\"X2\",\"X3\",\"X4\",\"X5\",\"X6\"]\r\n",
        "X = df[features]"
      ],
      "execution_count": 3,
      "outputs": []
    },
    {
      "cell_type": "markdown",
      "metadata": {
        "id": "BtAa98F8Jtmw"
      },
      "source": [
        "Next step is to plot our data, looking for preliminar correlations"
      ]
    },
    {
      "cell_type": "code",
      "metadata": {
        "colab": {
          "base_uri": "https://localhost:8080/",
          "height": 444
        },
        "id": "w5-PuP_NJ02j",
        "outputId": "7953a3dd-3840-47ec-e7d7-256cd0e042a1"
      },
      "source": [
        "for i in range(5):\r\n",
        "  plt.subplot(2,3,i+1)\r\n",
        "  plt.scatter(df[features[i]],y)\r\n",
        "  plt.title(\"X1 vs {}\".format(features[i]))\r\n",
        "  plt.gcf().set_size_inches(7,7)"
      ],
      "execution_count": 4,
      "outputs": [
        {
          "output_type": "display_data",
          "data": {
            "image/png": "[encoded data removed]",
            "text/plain": [
              "<Figure size 504x504 with 5 Axes>"
            ]
          },
          "metadata": {
            "tags": [],
            "needs_background": "light"
          }
        }
      ]
    },
    {
      "cell_type": "markdown",
      "metadata": {
        "id": "wCjtA5hUPk6d"
      },
      "source": [
        "evidently, there is a correlation, let's see in a quantitative way how strong it is"
      ]
    },
    {
      "cell_type": "code",
      "metadata": {
        "colab": {
          "base_uri": "https://localhost:8080/"
        },
        "id": "FrtSVlnLQSjo",
        "outputId": "4452fda6-dc65-4779-abb8-4bfdfe84f952"
      },
      "source": [
        "#correlation between X1(annual net sales) and any other variable\r\n",
        "for feature in features:\r\n",
        "  print(\"{}: {}\".format(feature,np.corrcoef(df[feature],y)[0,1]))"
      ],
      "execution_count": 5,
      "outputs": [
        {
          "output_type": "stream",
          "text": [
            "X2: 0.8940920808046883\n",
            "X3: 0.9455036254761464\n",
            "X4: 0.9140240746000747\n",
            "X5: 0.9536830603539991\n",
            "X6: -0.9122363921094576\n"
          ],
          "name": "stdout"
        }
      ]
    },
    {
      "cell_type": "markdown",
      "metadata": {
        "id": "Ub3-ZHalV8YI"
      },
      "source": [
        "## eureka\r\n",
        "\r\n",
        "we have a quite strong correlation between our anual net sales and the other variables presented, so we can start our model"
      ]
    },
    {
      "cell_type": "code",
      "metadata": {
        "id": "htVy4fBlWXDT"
      },
      "source": [
        "#use all of our predictors to the model\r\n",
        "X = df[features] \r\n",
        "\r\n",
        "#split the data\r\n",
        "X_train,X_test,y_train,y_test = train_test_split(X,y)\r\n",
        "\r\n",
        "#create our model\r\n",
        "regr = linear_model.LinearRegression().fit(X_train,y_train)\r\n",
        "\r\n",
        "#make predictions\r\n",
        "predictions = regr.predict(X_test)"
      ],
      "execution_count": 6,
      "outputs": []
    },
    {
      "cell_type": "markdown",
      "metadata": {
        "id": "Bo9MK9SUYnGY"
      },
      "source": [
        "let's see our performance"
      ]
    },
    {
      "cell_type": "code",
      "metadata": {
        "colab": {
          "base_uri": "https://localhost:8080/"
        },
        "id": "mR_PE-QkYmsu",
        "outputId": "594c298a-1a29-43c2-d2b0-5bcc8b1b2bfa"
      },
      "source": [
        "#see our performance\r\n",
        "mean_absolute_error(y_test,predictions)"
      ],
      "execution_count": 7,
      "outputs": [
        {
          "output_type": "execute_result",
          "data": {
            "text/plain": [
              "28.668746351359157"
            ]
          },
          "metadata": {
            "tags": []
          },
          "execution_count": 7
        }
      ]
    },
    {
      "cell_type": "code",
      "metadata": {
        "colab": {
          "base_uri": "https://localhost:8080/"
        },
        "id": "Rbj0ls4sdSem",
        "outputId": "de019533-9f6e-44c6-e351-f9b890865b07"
      },
      "source": [
        "#other performance measure\r\n",
        "regr.score(X_test,y_test)"
      ],
      "execution_count": 8,
      "outputs": [
        {
          "output_type": "execute_result",
          "data": {
            "text/plain": [
              "0.9487565070902645"
            ]
          },
          "metadata": {
            "tags": []
          },
          "execution_count": 8
        }
      ]
    },
    {
      "cell_type": "markdown",
      "metadata": {
        "id": "4sZmK4BpY04w"
      },
      "source": [
        "as we can see, our performance was so good, this could be because of the strong correlation between our target and predictors, see the data plotted could be convenient"
      ]
    },
    {
      "cell_type": "code",
      "metadata": {
        "colab": {
          "base_uri": "https://localhost:8080/",
          "height": 282
        },
        "id": "VX6mKtZUZSZn",
        "outputId": "3fec8dbf-66d4-4380-c61c-ba0e05b80460"
      },
      "source": [
        "plt.subplot(1,2,1)\r\n",
        "plt.scatter(X_test.X3,y_test)\r\n",
        "plt.subplot(1,2,2)\r\n",
        "plt.scatter(X_test.X3,predictions)"
      ],
      "execution_count": 9,
      "outputs": [
        {
          "output_type": "execute_result",
          "data": {
            "text/plain": [
              "<matplotlib.collections.PathCollection at 0x7f98cb3deac8>"
            ]
          },
          "metadata": {
            "tags": []
          },
          "execution_count": 9
        },
        {
          "output_type": "display_data",
          "data": {
            "image/png": "[encoded data removed]",
            "text/plain": [
              "<Figure size 432x288 with 2 Axes>"
            ]
          },
          "metadata": {
            "tags": [],
            "needs_background": "light"
          }
        }
      ]
    },
    {
      "cell_type": "markdown",
      "metadata": {
        "id": "0IJBKCN7gvi3"
      },
      "source": [
        "# conclusions:  \r\n",
        "as we can see our model had almost a perfect performance according with our measures, the Data exploration and the previous analysis let us to find any type of outlier or noisy data, taht was not our case, but always is important have this type of routines in order to create a good model, capable to generalize, and predict in a aproppiate way"
      ]
    }
  ]
}